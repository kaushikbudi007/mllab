{
  "nbformat": 4,
  "nbformat_minor": 0,
  "metadata": {
    "colab": {
      "name": "Kaushik_Budi_MLDM_LabAssignment8.ipynb",
      "provenance": [],
      "collapsed_sections": []
    },
    "kernelspec": {
      "display_name": "Python 3",
      "language": "python",
      "name": "python3"
    },
    "language_info": {
      "codemirror_mode": {
        "name": "ipython",
        "version": 3
      },
      "file_extension": ".py",
      "mimetype": "text/x-python",
      "name": "python",
      "nbconvert_exporter": "python",
      "pygments_lexer": "ipython3",
      "version": "3.7.3"
    }
  },
  "cells": [
    {
      "cell_type": "code",
      "metadata": {
        "colab_type": "code",
        "id": "Y7wqhHSSMLvf",
        "outputId": "c46f6159-4892-4e20-8f46-5438d13f32c3",
        "colab": {
          "base_uri": "https://localhost:8080/",
          "height": 417
        }
      },
      "source": [
        "# importing libraries for data handling and analysis\n",
        "import pandas as pd\n",
        "from pandas.plotting import scatter_matrix\n",
        "from pandas import ExcelWriter\n",
        "from pandas import ExcelFile\n",
        "from openpyxl import load_workbook\n",
        "import numpy as np\n",
        "from scipy.stats import norm, skew\n",
        "from scipy import stats\n",
        "import statsmodels.api as sm\n",
        "\n",
        "# importing libraries for data visualisations\n",
        "import seaborn as sns\n",
        "from matplotlib import pyplot\n",
        "import matplotlib.pyplot as plt\n",
        "import matplotlib.pylab as pylab\n",
        "import matplotlib\n",
        "%matplotlib inline\n",
        "color = sns.color_palette()\n",
        "from IPython.display import display\n",
        "pd.options.display.max_columns = None\n",
        "# Standard plotly imports\n",
        "import plotly\n",
        "import chart_studio.plotly as py\n",
        "import plotly.graph_objs as go\n",
        "import plotly.figure_factory as ff\n",
        "\n",
        "from plotly.offline import iplot, init_notebook_mode\n",
        "# Using plotly + cufflinks in offline mode\n",
        "from plotly.offline import download_plotlyjs, init_notebook_mode, plot, iplot\n",
        "import cufflinks as cf\n",
        "cf.set_config_file(offline=True)\n",
        "import cufflinks\n",
        "cufflinks.go_offline(connected=True)\n",
        "init_notebook_mode(connected=True)\n",
        "\n",
        "# sklearn modules for preprocessing\n",
        "from sklearn.preprocessing import OneHotEncoder, LabelEncoder\n",
        "# from imblearn.over_sampling import SMOTE  # SMOTE\n",
        "# sklearn modules for ML model selection\n",
        "from sklearn.model_selection import train_test_split  # import 'train_test_split'\n",
        "from sklearn.model_selection import GridSearchCV\n",
        "from sklearn.model_selection import RandomizedSearchCV\n",
        "from sklearn.model_selection import ShuffleSplit\n",
        "from sklearn.model_selection import KFold\n",
        "from sklearn.model_selection import cross_val_score\n",
        "\n",
        "# Libraries for data modelling\n",
        "from sklearn import svm, tree, linear_model, neighbors\n",
        "from sklearn import naive_bayes, ensemble, discriminant_analysis, gaussian_process\n",
        "from sklearn.linear_model import LogisticRegression\n",
        "from sklearn.tree import DecisionTreeClassifier\n",
        "from sklearn.neighbors import KNeighborsClassifier\n",
        "from sklearn.discriminant_analysis import LinearDiscriminantAnalysis\n",
        "from sklearn.naive_bayes import GaussianNB\n",
        "from sklearn.svm import SVC\n",
        "from sklearn.neighbors import KNeighborsClassifier\n",
        "from xgboost import XGBClassifier\n",
        "from sklearn.ensemble import RandomForestClassifier\n",
        "\n",
        "# Common sklearn Model Helpers\n",
        "from sklearn import feature_selection\n",
        "from sklearn import model_selection\n",
        "from sklearn import metrics\n",
        "# from sklearn.datasets import make_classification\n",
        "\n",
        "# sklearn modules for performance metrics\n",
        "from sklearn.metrics import confusion_matrix, classification_report, precision_recall_curve\n",
        "from sklearn.metrics import auc, roc_auc_score, roc_curve, recall_score, log_loss\n",
        "from sklearn.metrics import f1_score, accuracy_score, roc_auc_score, make_scorer\n",
        "from sklearn.metrics import average_precision_score\n",
        "\n",
        "# importing misceallenous libraries\n",
        "import os\n",
        "import re\n",
        "import sys\n",
        "import timeit\n",
        "import string\n",
        "from datetime import datetime\n",
        "from time import time\n",
        "from dateutil.parser import parse\n",
        "\n",
        "\n",
        "#Enabling Interactive plots on google colab\n",
        "def enable_plotly_in_cell():\n",
        "  import IPython\n",
        "  from plotly.offline import init_notebook_mode\n",
        "  display(IPython.core.display.HTML('''<script src=\"/static/components/requirejs/require.js\"></script>'''))\n",
        "  init_notebook_mode(connected=False)\n",
        "  "
      ],
      "execution_count": 0,
      "outputs": [
        {
          "output_type": "stream",
          "text": [
            "/usr/local/lib/python3.6/dist-packages/statsmodels/tools/_testing.py:19: FutureWarning: pandas.util.testing is deprecated. Use the functions in the public API at pandas.testing instead.\n",
            "  import pandas.util.testing as tm\n"
          ],
          "name": "stderr"
        },
        {
          "output_type": "error",
          "ename": "ModuleNotFoundError",
          "evalue": "ignored",
          "traceback": [
            "\u001b[0;31m---------------------------------------------------------------------------\u001b[0m",
            "\u001b[0;31mModuleNotFoundError\u001b[0m                       Traceback (most recent call last)",
            "\u001b[0;32m<ipython-input-1-66f26041f1c4>\u001b[0m in \u001b[0;36m<module>\u001b[0;34m()\u001b[0m\n\u001b[1;32m     21\u001b[0m \u001b[0;31m# Standard plotly imports\u001b[0m\u001b[0;34m\u001b[0m\u001b[0;34m\u001b[0m\u001b[0;34m\u001b[0m\u001b[0m\n\u001b[1;32m     22\u001b[0m \u001b[0;32mimport\u001b[0m \u001b[0mplotly\u001b[0m\u001b[0;34m\u001b[0m\u001b[0;34m\u001b[0m\u001b[0m\n\u001b[0;32m---> 23\u001b[0;31m \u001b[0;32mimport\u001b[0m \u001b[0mchart_studio\u001b[0m\u001b[0;34m.\u001b[0m\u001b[0mplotly\u001b[0m \u001b[0;32mas\u001b[0m \u001b[0mpy\u001b[0m\u001b[0;34m\u001b[0m\u001b[0;34m\u001b[0m\u001b[0m\n\u001b[0m\u001b[1;32m     24\u001b[0m \u001b[0;32mimport\u001b[0m \u001b[0mplotly\u001b[0m\u001b[0;34m.\u001b[0m\u001b[0mgraph_objs\u001b[0m \u001b[0;32mas\u001b[0m \u001b[0mgo\u001b[0m\u001b[0;34m\u001b[0m\u001b[0;34m\u001b[0m\u001b[0m\n\u001b[1;32m     25\u001b[0m \u001b[0;32mimport\u001b[0m \u001b[0mplotly\u001b[0m\u001b[0;34m.\u001b[0m\u001b[0mfigure_factory\u001b[0m \u001b[0;32mas\u001b[0m \u001b[0mff\u001b[0m\u001b[0;34m\u001b[0m\u001b[0;34m\u001b[0m\u001b[0m\n",
            "\u001b[0;31mModuleNotFoundError\u001b[0m: No module named 'chart_studio'",
            "",
            "\u001b[0;31m---------------------------------------------------------------------------\u001b[0;32m\nNOTE: If your import is failing due to a missing package, you can\nmanually install dependencies using either !pip or !apt.\n\nTo view examples of installing some common dependencies, click the\n\"Open Examples\" button below.\n\u001b[0;31m---------------------------------------------------------------------------\u001b[0m\n"
          ]
        }
      ]
    },
    {
      "cell_type": "code",
      "metadata": {
        "colab_type": "code",
        "id": "Ea9Srp_T0j2d",
        "outputId": "896ea75b-c2bc-48f5-efc6-074aff7c7b1a",
        "colab": {
          "base_uri": "https://localhost:8080/",
          "height": 255
        }
      },
      "source": [
        "! pip install chart_studio"
      ],
      "execution_count": 0,
      "outputs": [
        {
          "output_type": "stream",
          "text": [
            "Collecting chart_studio\n",
            "\u001b[?25l  Downloading https://files.pythonhosted.org/packages/ca/ce/330794a6b6ca4b9182c38fc69dd2a9cbff60fd49421cb8648ee5fee352dc/chart_studio-1.1.0-py3-none-any.whl (64kB)\n",
            "\r\u001b[K     |█████                           | 10kB 19.2MB/s eta 0:00:01\r\u001b[K     |██████████▏                     | 20kB 1.6MB/s eta 0:00:01\r\u001b[K     |███████████████▎                | 30kB 2.3MB/s eta 0:00:01\r\u001b[K     |████████████████████▍           | 40kB 3.0MB/s eta 0:00:01\r\u001b[K     |█████████████████████████▍      | 51kB 2.0MB/s eta 0:00:01\r\u001b[K     |██████████████████████████████▌ | 61kB 2.4MB/s eta 0:00:01\r\u001b[K     |████████████████████████████████| 71kB 2.3MB/s \n",
            "\u001b[?25hRequirement already satisfied: retrying>=1.3.3 in /usr/local/lib/python3.6/dist-packages (from chart_studio) (1.3.3)\n",
            "Requirement already satisfied: plotly in /usr/local/lib/python3.6/dist-packages (from chart_studio) (4.4.1)\n",
            "Requirement already satisfied: six in /usr/local/lib/python3.6/dist-packages (from chart_studio) (1.12.0)\n",
            "Requirement already satisfied: requests in /usr/local/lib/python3.6/dist-packages (from chart_studio) (2.21.0)\n",
            "Requirement already satisfied: certifi>=2017.4.17 in /usr/local/lib/python3.6/dist-packages (from requests->chart_studio) (2020.4.5.1)\n",
            "Requirement already satisfied: urllib3<1.25,>=1.21.1 in /usr/local/lib/python3.6/dist-packages (from requests->chart_studio) (1.24.3)\n",
            "Requirement already satisfied: chardet<3.1.0,>=3.0.2 in /usr/local/lib/python3.6/dist-packages (from requests->chart_studio) (3.0.4)\n",
            "Requirement already satisfied: idna<2.9,>=2.5 in /usr/local/lib/python3.6/dist-packages (from requests->chart_studio) (2.8)\n",
            "Installing collected packages: chart-studio\n",
            "Successfully installed chart-studio-1.1.0\n"
          ],
          "name": "stdout"
        }
      ]
    },
    {
      "cell_type": "code",
      "metadata": {
        "colab_type": "code",
        "id": "QaBjzisZ9xCk",
        "outputId": "289680bc-1852-4547-8a14-2cafa35e4e37",
        "colab": {
          "base_uri": "https://localhost:8080/",
          "height": 407
        }
      },
      "source": [
        "df = pd.read_csv('WA_Fn-UseC_-HR-Employee-Attrition.csv')\n",
        "print(df.shape)"
      ],
      "execution_count": 0,
      "outputs": [
        {
          "output_type": "error",
          "ename": "FileNotFoundError",
          "evalue": "ignored",
          "traceback": [
            "\u001b[0;31m---------------------------------------------------------------------------\u001b[0m",
            "\u001b[0;31mFileNotFoundError\u001b[0m                         Traceback (most recent call last)",
            "\u001b[0;32m<ipython-input-3-0c592ba02f21>\u001b[0m in \u001b[0;36m<module>\u001b[0;34m()\u001b[0m\n\u001b[0;32m----> 1\u001b[0;31m \u001b[0mdf\u001b[0m \u001b[0;34m=\u001b[0m \u001b[0mpd\u001b[0m\u001b[0;34m.\u001b[0m\u001b[0mread_csv\u001b[0m\u001b[0;34m(\u001b[0m\u001b[0;34m'WA_Fn-UseC_-HR-Employee-Attrition.csv'\u001b[0m\u001b[0;34m)\u001b[0m\u001b[0;34m\u001b[0m\u001b[0;34m\u001b[0m\u001b[0m\n\u001b[0m\u001b[1;32m      2\u001b[0m \u001b[0mprint\u001b[0m\u001b[0;34m(\u001b[0m\u001b[0mdf\u001b[0m\u001b[0;34m.\u001b[0m\u001b[0mshape\u001b[0m\u001b[0;34m)\u001b[0m\u001b[0;34m\u001b[0m\u001b[0;34m\u001b[0m\u001b[0m\n",
            "\u001b[0;32m/usr/local/lib/python3.6/dist-packages/pandas/io/parsers.py\u001b[0m in \u001b[0;36mparser_f\u001b[0;34m(filepath_or_buffer, sep, delimiter, header, names, index_col, usecols, squeeze, prefix, mangle_dupe_cols, dtype, engine, converters, true_values, false_values, skipinitialspace, skiprows, skipfooter, nrows, na_values, keep_default_na, na_filter, verbose, skip_blank_lines, parse_dates, infer_datetime_format, keep_date_col, date_parser, dayfirst, cache_dates, iterator, chunksize, compression, thousands, decimal, lineterminator, quotechar, quoting, doublequote, escapechar, comment, encoding, dialect, error_bad_lines, warn_bad_lines, delim_whitespace, low_memory, memory_map, float_precision)\u001b[0m\n\u001b[1;32m    674\u001b[0m         )\n\u001b[1;32m    675\u001b[0m \u001b[0;34m\u001b[0m\u001b[0m\n\u001b[0;32m--> 676\u001b[0;31m         \u001b[0;32mreturn\u001b[0m \u001b[0m_read\u001b[0m\u001b[0;34m(\u001b[0m\u001b[0mfilepath_or_buffer\u001b[0m\u001b[0;34m,\u001b[0m \u001b[0mkwds\u001b[0m\u001b[0;34m)\u001b[0m\u001b[0;34m\u001b[0m\u001b[0;34m\u001b[0m\u001b[0m\n\u001b[0m\u001b[1;32m    677\u001b[0m \u001b[0;34m\u001b[0m\u001b[0m\n\u001b[1;32m    678\u001b[0m     \u001b[0mparser_f\u001b[0m\u001b[0;34m.\u001b[0m\u001b[0m__name__\u001b[0m \u001b[0;34m=\u001b[0m \u001b[0mname\u001b[0m\u001b[0;34m\u001b[0m\u001b[0;34m\u001b[0m\u001b[0m\n",
            "\u001b[0;32m/usr/local/lib/python3.6/dist-packages/pandas/io/parsers.py\u001b[0m in \u001b[0;36m_read\u001b[0;34m(filepath_or_buffer, kwds)\u001b[0m\n\u001b[1;32m    446\u001b[0m \u001b[0;34m\u001b[0m\u001b[0m\n\u001b[1;32m    447\u001b[0m     \u001b[0;31m# Create the parser.\u001b[0m\u001b[0;34m\u001b[0m\u001b[0;34m\u001b[0m\u001b[0;34m\u001b[0m\u001b[0m\n\u001b[0;32m--> 448\u001b[0;31m     \u001b[0mparser\u001b[0m \u001b[0;34m=\u001b[0m \u001b[0mTextFileReader\u001b[0m\u001b[0;34m(\u001b[0m\u001b[0mfp_or_buf\u001b[0m\u001b[0;34m,\u001b[0m \u001b[0;34m**\u001b[0m\u001b[0mkwds\u001b[0m\u001b[0;34m)\u001b[0m\u001b[0;34m\u001b[0m\u001b[0;34m\u001b[0m\u001b[0m\n\u001b[0m\u001b[1;32m    449\u001b[0m \u001b[0;34m\u001b[0m\u001b[0m\n\u001b[1;32m    450\u001b[0m     \u001b[0;32mif\u001b[0m \u001b[0mchunksize\u001b[0m \u001b[0;32mor\u001b[0m \u001b[0miterator\u001b[0m\u001b[0;34m:\u001b[0m\u001b[0;34m\u001b[0m\u001b[0;34m\u001b[0m\u001b[0m\n",
            "\u001b[0;32m/usr/local/lib/python3.6/dist-packages/pandas/io/parsers.py\u001b[0m in \u001b[0;36m__init__\u001b[0;34m(self, f, engine, **kwds)\u001b[0m\n\u001b[1;32m    878\u001b[0m             \u001b[0mself\u001b[0m\u001b[0;34m.\u001b[0m\u001b[0moptions\u001b[0m\u001b[0;34m[\u001b[0m\u001b[0;34m\"has_index_names\"\u001b[0m\u001b[0;34m]\u001b[0m \u001b[0;34m=\u001b[0m \u001b[0mkwds\u001b[0m\u001b[0;34m[\u001b[0m\u001b[0;34m\"has_index_names\"\u001b[0m\u001b[0;34m]\u001b[0m\u001b[0;34m\u001b[0m\u001b[0;34m\u001b[0m\u001b[0m\n\u001b[1;32m    879\u001b[0m \u001b[0;34m\u001b[0m\u001b[0m\n\u001b[0;32m--> 880\u001b[0;31m         \u001b[0mself\u001b[0m\u001b[0;34m.\u001b[0m\u001b[0m_make_engine\u001b[0m\u001b[0;34m(\u001b[0m\u001b[0mself\u001b[0m\u001b[0;34m.\u001b[0m\u001b[0mengine\u001b[0m\u001b[0;34m)\u001b[0m\u001b[0;34m\u001b[0m\u001b[0;34m\u001b[0m\u001b[0m\n\u001b[0m\u001b[1;32m    881\u001b[0m \u001b[0;34m\u001b[0m\u001b[0m\n\u001b[1;32m    882\u001b[0m     \u001b[0;32mdef\u001b[0m \u001b[0mclose\u001b[0m\u001b[0;34m(\u001b[0m\u001b[0mself\u001b[0m\u001b[0;34m)\u001b[0m\u001b[0;34m:\u001b[0m\u001b[0;34m\u001b[0m\u001b[0;34m\u001b[0m\u001b[0m\n",
            "\u001b[0;32m/usr/local/lib/python3.6/dist-packages/pandas/io/parsers.py\u001b[0m in \u001b[0;36m_make_engine\u001b[0;34m(self, engine)\u001b[0m\n\u001b[1;32m   1112\u001b[0m     \u001b[0;32mdef\u001b[0m \u001b[0m_make_engine\u001b[0m\u001b[0;34m(\u001b[0m\u001b[0mself\u001b[0m\u001b[0;34m,\u001b[0m \u001b[0mengine\u001b[0m\u001b[0;34m=\u001b[0m\u001b[0;34m\"c\"\u001b[0m\u001b[0;34m)\u001b[0m\u001b[0;34m:\u001b[0m\u001b[0;34m\u001b[0m\u001b[0;34m\u001b[0m\u001b[0m\n\u001b[1;32m   1113\u001b[0m         \u001b[0;32mif\u001b[0m \u001b[0mengine\u001b[0m \u001b[0;34m==\u001b[0m \u001b[0;34m\"c\"\u001b[0m\u001b[0;34m:\u001b[0m\u001b[0;34m\u001b[0m\u001b[0;34m\u001b[0m\u001b[0m\n\u001b[0;32m-> 1114\u001b[0;31m             \u001b[0mself\u001b[0m\u001b[0;34m.\u001b[0m\u001b[0m_engine\u001b[0m \u001b[0;34m=\u001b[0m \u001b[0mCParserWrapper\u001b[0m\u001b[0;34m(\u001b[0m\u001b[0mself\u001b[0m\u001b[0;34m.\u001b[0m\u001b[0mf\u001b[0m\u001b[0;34m,\u001b[0m \u001b[0;34m**\u001b[0m\u001b[0mself\u001b[0m\u001b[0;34m.\u001b[0m\u001b[0moptions\u001b[0m\u001b[0;34m)\u001b[0m\u001b[0;34m\u001b[0m\u001b[0;34m\u001b[0m\u001b[0m\n\u001b[0m\u001b[1;32m   1115\u001b[0m         \u001b[0;32melse\u001b[0m\u001b[0;34m:\u001b[0m\u001b[0;34m\u001b[0m\u001b[0;34m\u001b[0m\u001b[0m\n\u001b[1;32m   1116\u001b[0m             \u001b[0;32mif\u001b[0m \u001b[0mengine\u001b[0m \u001b[0;34m==\u001b[0m \u001b[0;34m\"python\"\u001b[0m\u001b[0;34m:\u001b[0m\u001b[0;34m\u001b[0m\u001b[0;34m\u001b[0m\u001b[0m\n",
            "\u001b[0;32m/usr/local/lib/python3.6/dist-packages/pandas/io/parsers.py\u001b[0m in \u001b[0;36m__init__\u001b[0;34m(self, src, **kwds)\u001b[0m\n\u001b[1;32m   1889\u001b[0m         \u001b[0mkwds\u001b[0m\u001b[0;34m[\u001b[0m\u001b[0;34m\"usecols\"\u001b[0m\u001b[0;34m]\u001b[0m \u001b[0;34m=\u001b[0m \u001b[0mself\u001b[0m\u001b[0;34m.\u001b[0m\u001b[0musecols\u001b[0m\u001b[0;34m\u001b[0m\u001b[0;34m\u001b[0m\u001b[0m\n\u001b[1;32m   1890\u001b[0m \u001b[0;34m\u001b[0m\u001b[0m\n\u001b[0;32m-> 1891\u001b[0;31m         \u001b[0mself\u001b[0m\u001b[0;34m.\u001b[0m\u001b[0m_reader\u001b[0m \u001b[0;34m=\u001b[0m \u001b[0mparsers\u001b[0m\u001b[0;34m.\u001b[0m\u001b[0mTextReader\u001b[0m\u001b[0;34m(\u001b[0m\u001b[0msrc\u001b[0m\u001b[0;34m,\u001b[0m \u001b[0;34m**\u001b[0m\u001b[0mkwds\u001b[0m\u001b[0;34m)\u001b[0m\u001b[0;34m\u001b[0m\u001b[0;34m\u001b[0m\u001b[0m\n\u001b[0m\u001b[1;32m   1892\u001b[0m         \u001b[0mself\u001b[0m\u001b[0;34m.\u001b[0m\u001b[0munnamed_cols\u001b[0m \u001b[0;34m=\u001b[0m \u001b[0mself\u001b[0m\u001b[0;34m.\u001b[0m\u001b[0m_reader\u001b[0m\u001b[0;34m.\u001b[0m\u001b[0munnamed_cols\u001b[0m\u001b[0;34m\u001b[0m\u001b[0;34m\u001b[0m\u001b[0m\n\u001b[1;32m   1893\u001b[0m \u001b[0;34m\u001b[0m\u001b[0m\n",
            "\u001b[0;32mpandas/_libs/parsers.pyx\u001b[0m in \u001b[0;36mpandas._libs.parsers.TextReader.__cinit__\u001b[0;34m()\u001b[0m\n",
            "\u001b[0;32mpandas/_libs/parsers.pyx\u001b[0m in \u001b[0;36mpandas._libs.parsers.TextReader._setup_parser_source\u001b[0;34m()\u001b[0m\n",
            "\u001b[0;31mFileNotFoundError\u001b[0m: [Errno 2] File WA_Fn-UseC_-HR-Employee-Attrition.csv does not exist: 'WA_Fn-UseC_-HR-Employee-Attrition.csv'"
          ]
        }
      ]
    },
    {
      "cell_type": "markdown",
      "metadata": {
        "colab_type": "text",
        "id": "hNnc_JZeUoel"
      },
      "source": [
        "Data Description and Visualization"
      ]
    },
    {
      "cell_type": "code",
      "metadata": {
        "colab_type": "code",
        "id": "QIzK8LkdUdun",
        "colab": {}
      },
      "source": [
        "df_hr = df.copy()\n",
        "df_hr.columns"
      ],
      "execution_count": 0,
      "outputs": []
    },
    {
      "cell_type": "code",
      "metadata": {
        "colab_type": "code",
        "id": "q2Bv4GzSU_Vi",
        "colab": {}
      },
      "source": [
        "df_hr.head()"
      ],
      "execution_count": 0,
      "outputs": []
    },
    {
      "cell_type": "code",
      "metadata": {
        "colab_type": "code",
        "id": "PAWDzMGdVUn3",
        "colab": {}
      },
      "source": [
        "df_hr.info()"
      ],
      "execution_count": 0,
      "outputs": []
    },
    {
      "cell_type": "markdown",
      "metadata": {
        "colab_type": "text",
        "id": "GfBcQ1A6V9FC"
      },
      "source": [
        "Data contains no missing values."
      ]
    },
    {
      "cell_type": "code",
      "metadata": {
        "colab_type": "code",
        "id": "nJ1IwBrGV-gU",
        "colab": {}
      },
      "source": [
        "df_hr.describe()"
      ],
      "execution_count": 0,
      "outputs": []
    },
    {
      "cell_type": "code",
      "metadata": {
        "colab_type": "code",
        "id": "BwqtOiIsWZN1",
        "colab": {}
      },
      "source": [
        "df_hr.hist(figsize=(20,20))\n",
        "plt.show()"
      ],
      "execution_count": 0,
      "outputs": []
    },
    {
      "cell_type": "markdown",
      "metadata": {
        "colab_type": "text",
        "id": "sjldcRnSvNCe"
      },
      "source": [
        "."
      ]
    },
    {
      "cell_type": "markdown",
      "metadata": {
        "colab_type": "text",
        "id": "ypLHUAW-vBpK"
      },
      "source": [
        "\n",
        "\n",
        "\n",
        "Feature distribution by target attribute\n"
      ]
    },
    {
      "cell_type": "code",
      "metadata": {
        "colab_type": "code",
        "id": "48t2UGXlYLUi",
        "colab": {}
      },
      "source": [
        "#Age\n",
        "\n",
        "(mu, sigma) = norm.fit(df_hr.loc[df_hr['Attrition'] == 'Yes', 'Age'])\n",
        "print('Ex-exmployees: average age = {:.1f} years old and standard deviation = {:.1f}'.format(mu, sigma))\n",
        "\n",
        "(mu, sigma) = norm.fit(df_hr.loc[df_hr['Attrition'] == 'No', 'Age'])\n",
        "print('Current exmployees: average age = {:.1f} years old and standard deviation = {:.1f}'.format(mu, sigma))\n"
      ],
      "execution_count": 0,
      "outputs": []
    },
    {
      "cell_type": "code",
      "metadata": {
        "colab_type": "code",
        "id": "FkZasfkMyEL7",
        "colab": {}
      },
      "source": [
        "#Creating a Kernal Density Estimation plot\n",
        "\n",
        "x1 = df_hr.loc[df_hr['Attrition'] == 'No', 'Age']\n",
        "x2 = df_hr.loc[df_hr['Attrition'] == 'Yes', 'Age']\n",
        "\n",
        "hist_data = [x1, x2]\n",
        "group_labels = ['Active Employees', 'Ex-Employees']\n",
        "\n",
        "fig = ff.create_distplot(hist_data, group_labels, curve_type='kde', show_hist=False, show_rug=False)\n",
        "fig['layout'].update(title='Age Distribution in Percent by Attrition Status')\n",
        "fig['layout'].update(xaxis=dict(range=[15, 60], dtick=5))\n",
        "\n",
        "\n",
        "fig.show(renderer = \"colab\")\n",
        "#py.iplot(fig, filename='Distplot with Multiple Datasets')\n"
      ],
      "execution_count": 0,
      "outputs": []
    },
    {
      "cell_type": "code",
      "metadata": {
        "colab_type": "code",
        "id": "cMkDHzld5Sa6",
        "colab": {}
      },
      "source": [
        "#Educational Fields\n",
        "df_hr['EducationField'].value_counts()"
      ],
      "execution_count": 0,
      "outputs": []
    },
    {
      "cell_type": "code",
      "metadata": {
        "colab_type": "code",
        "id": "gI2ljt957II2",
        "colab": {}
      },
      "source": [
        "#Normalized percentage of Leavers for each Field.\n",
        "\n",
        "df_BusinessTravel = pd.DataFrame(columns=[\"Business Travel\", \"% of Leavers\"])\n",
        "i=0\n",
        "for field in list(df_hr['BusinessTravel'].unique()):\n",
        "    ratio = df_hr[(df_hr['BusinessTravel']==field)&(df_hr['Attrition']==\"Yes\")].shape[0] / df_hr[df_hr['BusinessTravel']==field].shape[0]\n",
        "    df_BusinessTravel.loc[i] = (field, ratio*100)\n",
        "    i += 1\n",
        "    print(\"In {}, the ratio of leavers is {:.2f}%\".format(field, ratio*100)) \n",
        "\n",
        "enable_plotly_in_cell()   \n",
        "df_BT = df_BusinessTravel.groupby(by=\"Business Travel\").sum()\n",
        "df_BT.iplot(kind='bar',title='Leavers by Business Travel (%)')"
      ],
      "execution_count": 0,
      "outputs": []
    },
    {
      "cell_type": "code",
      "metadata": {
        "colab_type": "code",
        "id": "MGtUHl0a-ceP",
        "colab": {}
      },
      "source": [
        "#Gender\n",
        "df_hr['Gender'].value_counts()"
      ],
      "execution_count": 0,
      "outputs": []
    },
    {
      "cell_type": "code",
      "metadata": {
        "colab_type": "code",
        "id": "WSYmrsfu-tAL",
        "colab": {}
      },
      "source": [
        "print(\"Normalised gender distribution of ex-employees in the dataset: Male = {:.1f}%; Female {:.1f}%.\"\n",
        "        .format((df_hr[(df_hr['Attrition'] == 'Yes') & (\n",
        "        df_hr['Gender'] == 'Male')].shape[0] / df_hr[df_hr['Gender'] == 'Male'].shape[0])*100, \n",
        "        (df_hr[(df_hr['Attrition'] == 'Yes') & (df_hr['Gender'] == 'Female')].shape[0] / df_hr[df_hr['Gender'] == 'Female'].shape[0])*100))\n"
      ],
      "execution_count": 0,
      "outputs": []
    },
    {
      "cell_type": "code",
      "metadata": {
        "colab_type": "code",
        "id": "YIKzmedfAHi_",
        "colab": {}
      },
      "source": [
        "df_Gender = pd.DataFrame(columns=[\"Gender\", \"% of Leavers\"])\n",
        "i=0\n",
        "for field in list(df_hr['Gender'].unique()):\n",
        "    ratio = df_hr[(df_hr['Gender']==field)&(df_hr['Attrition']==\"Yes\")].shape[0] / df_hr[df_hr['Gender']==field].shape[0]\n",
        "    df_Gender.loc[i] = (field, ratio*100)\n",
        "    i += 1\n",
        "    print(\"In {}, the ratio of leavers is {:.2f}%\".format(field, ratio*100)) \n",
        "\n",
        "enable_plotly_in_cell()   \n",
        "df_G = df_Gender.groupby(by=\"Gender\").sum()\n",
        "df_G.iplot(kind='bar',title='Leavers by Gender (%)')"
      ],
      "execution_count": 0,
      "outputs": []
    },
    {
      "cell_type": "code",
      "metadata": {
        "colab_type": "code",
        "id": "dZxzVfShAfDO",
        "colab": {}
      },
      "source": [
        "#Marital Status\n",
        "df_hr['MaritalStatus'].value_counts()"
      ],
      "execution_count": 0,
      "outputs": []
    },
    {
      "cell_type": "code",
      "metadata": {
        "colab_type": "code",
        "id": "4-NusnBMCAvp",
        "colab": {}
      },
      "source": [
        "df_Marital = pd.DataFrame(columns=[\"Marital Status\", \"% of Leavers\"])\n",
        "i=0\n",
        "for field in list(df_hr['MaritalStatus'].unique()):\n",
        "    ratio = df_hr[(df_hr['MaritalStatus']==field)&(df_hr['Attrition']==\"Yes\")].shape[0] / df_hr[df_hr['MaritalStatus']==field].shape[0]\n",
        "    df_Marital.loc[i] = (field, ratio*100)\n",
        "    i += 1\n",
        "    print(\"In {}, the ratio of leavers is {:.2f}%\".format(field, ratio*100))  \n",
        "\n",
        "\n",
        "enable_plotly_in_cell()   \n",
        "df_MF = df_Marital.groupby(by=\"Marital Status\").sum()\n",
        "df_MF.iplot(kind='bar',title='Leavers by Marital Status (%)')"
      ],
      "execution_count": 0,
      "outputs": []
    },
    {
      "cell_type": "code",
      "metadata": {
        "colab_type": "code",
        "id": "FoRgYs11CRHd",
        "colab": {}
      },
      "source": [
        "#Distance from Home\n",
        "\n",
        "print(\"Distance from home for employees to get to work is from {} to {} miles.\"\n",
        "        .format(df_hr['DistanceFromHome'].min(),\n",
        "                df_hr['DistanceFromHome'].max()))"
      ],
      "execution_count": 0,
      "outputs": []
    },
    {
      "cell_type": "code",
      "metadata": {
        "colab_type": "code",
        "id": "k0kJuBVsZJ3b",
        "colab": {}
      },
      "source": [
        "print('Average distance from home for currently active employees: {:.2f} miles and ex-employees: {:.2f} miles'.format(\n",
        "    df_hr[df_hr['Attrition'] == 'No']['DistanceFromHome'].mean(), df_hr[df_hr['Attrition'] == 'Yes']['DistanceFromHome'].mean()))"
      ],
      "execution_count": 0,
      "outputs": []
    },
    {
      "cell_type": "code",
      "metadata": {
        "colab_type": "code",
        "id": "ETCZHZutZfmu",
        "colab": {}
      },
      "source": [
        "x1 = df_hr.loc[df_hr['Attrition']=='No','DistanceFromHome']\n",
        "x2 = df_hr.loc[df_hr['Attrition']=='Yes','DistanceFromHome']\n",
        "\n",
        "hist_data = [x1, x2]\n",
        "group_labels = ['Active- Employees', 'Ex-Employees']\n",
        "\n",
        "fig = ff.create_distplot(hist_data, group_labels,\n",
        "                         curve_type='kde', show_hist=False, show_rug=False)\n",
        "fig['layout'].update( title='Distance From Home Distribution in Percent by Attrition Status')\n",
        "fig['layout'].update(xaxis=dict(range=[0, 30], dtick=2))\n",
        "\n",
        "fig.show(renderer = \"colab\")\n",
        "\n"
      ],
      "execution_count": 0,
      "outputs": []
    },
    {
      "cell_type": "code",
      "metadata": {
        "colab_type": "code",
        "id": "uAoIJKfTa6IJ",
        "colab": {}
      },
      "source": [
        "#Department\n",
        "df_hr['Department'].value_counts()"
      ],
      "execution_count": 0,
      "outputs": []
    },
    {
      "cell_type": "code",
      "metadata": {
        "colab_type": "code",
        "id": "OWtem2stbxHR",
        "colab": {}
      },
      "source": [
        "df_Department = pd.DataFrame(columns=[\"Department\", \"% of Leavers\"])\n",
        "i=0\n",
        "for field in list(df_hr['Department'].unique()):\n",
        "    ratio = df_hr[(df_hr['Department']==field)&(df_hr['Attrition']==\"Yes\")].shape[0] / df_hr[df_hr['Department']==field].shape[0]\n",
        "    df_Department.loc[i] = (field, ratio*100)\n",
        "    i += 1\n",
        "    print(\"In {}, the ratio of leavers is {:.2f}%\".format(field, ratio*100))   \n",
        "\n",
        "enable_plotly_in_cell()     \n",
        "df_DF = df_Department.groupby(by=\"Department\").sum()\n",
        "df_DF.iplot(kind='bar',title='Leavers by Department (%)')"
      ],
      "execution_count": 0,
      "outputs": []
    },
    {
      "cell_type": "code",
      "metadata": {
        "colab_type": "code",
        "id": "gDWIjnaJb-1U",
        "colab": {}
      },
      "source": [
        "#Role and Work conditions (Travel commitment varies)\n",
        "df_hr['BusinessTravel'].value_counts()"
      ],
      "execution_count": 0,
      "outputs": []
    },
    {
      "cell_type": "code",
      "metadata": {
        "colab_type": "code",
        "id": "1P3c_NWLdpcl",
        "colab": {}
      },
      "source": [
        "df_BusinessTravel = pd.DataFrame(columns=[\"Business Travel\", \"% of Leavers\"])\n",
        "i=0\n",
        "for field in list(df_hr['BusinessTravel'].unique()):\n",
        "    ratio = df_hr[(df_hr['BusinessTravel']==field)&(df_hr['Attrition']==\"Yes\")].shape[0] / df_hr[df_hr['BusinessTravel']==field].shape[0]\n",
        "    df_BusinessTravel.loc[i] = (field, ratio*100)\n",
        "    i += 1\n",
        "    print(\"In {}, the ratio of leavers is {:.2f}%\".format(field, ratio*100)) \n",
        "\n",
        "enable_plotly_in_cell()       \n",
        "df_BT = df_BusinessTravel.groupby(by=\"Business Travel\").sum()\n",
        "df_BT.iplot(kind='bar',title='Leavers by Business Travel (%)')"
      ],
      "execution_count": 0,
      "outputs": []
    },
    {
      "cell_type": "code",
      "metadata": {
        "colab_type": "code",
        "id": "N8FHDDBfe1LC",
        "colab": {}
      },
      "source": [
        "df_hr['JobRole'].value_counts()"
      ],
      "execution_count": 0,
      "outputs": []
    },
    {
      "cell_type": "code",
      "metadata": {
        "colab_type": "code",
        "id": "ZT4M8ZsqgBrw",
        "colab": {}
      },
      "source": [
        "df_JobRole = pd.DataFrame(columns=[\"Job Role\", \"% of Leavers\"])\n",
        "i=0\n",
        "for field in list(df_hr['JobRole'].unique()):\n",
        "    ratio = df_hr[(df_hr['JobRole']==field)&(df_hr['Attrition']==\"Yes\")].shape[0] / df_hr[df_hr['JobRole']==field].shape[0]\n",
        "    df_JobRole.loc[i] = (field, ratio*100)\n",
        "    i += 1\n",
        "    print(\"In {}, the ratio of leavers is {:.2f}%\".format(field, ratio*100))  \n",
        "\n",
        "enable_plotly_in_cell()      \n",
        "df_JR = df_JobRole.groupby(by=\"Job Role\").sum()\n",
        "df_JR.iplot(kind='bar',title='Leavers by Job Role (%)')"
      ],
      "execution_count": 0,
      "outputs": []
    },
    {
      "cell_type": "code",
      "metadata": {
        "colab_type": "code",
        "id": "2a9e2WwGgNLd",
        "colab": {}
      },
      "source": [
        "df_hr['JobLevel'].value_counts()"
      ],
      "execution_count": 0,
      "outputs": []
    },
    {
      "cell_type": "code",
      "metadata": {
        "colab_type": "code",
        "id": "pLqjF1DUgt68",
        "colab": {}
      },
      "source": [
        "df_JobLevel = pd.DataFrame(columns=[\"Job Level\", \"% of Leavers\"])\n",
        "i=0\n",
        "for field in list(df_hr['JobLevel'].unique()):\n",
        "    ratio = df_hr[(df_hr['JobLevel']==field)&(df_hr['Attrition']==\"Yes\")].shape[0] / df_hr[df_hr['JobLevel']==field].shape[0]\n",
        "    df_JobLevel.loc[i] = (field, ratio*100)\n",
        "    i += 1\n",
        "    print(\"In {}, the ratio of leavers is {:.2f}%\".format(field, ratio*100)) \n",
        "\n",
        "enable_plotly_in_cell()       \n",
        "df_JL = df_JobLevel.groupby(by=\"Job Level\").sum()\n",
        "df_JL.iplot(kind='bar',title='Leavers by Job Level (%)')"
      ],
      "execution_count": 0,
      "outputs": []
    },
    {
      "cell_type": "code",
      "metadata": {
        "colab_type": "code",
        "id": "rUI8DJXHg4Y8",
        "colab": {}
      },
      "source": [
        "df_hr['JobInvolvement'].value_counts() \n",
        "# Ranges from 1 = Low to 4 = Very High"
      ],
      "execution_count": 0,
      "outputs": []
    },
    {
      "cell_type": "code",
      "metadata": {
        "colab_type": "code",
        "id": "WoD5P_ythGd7",
        "colab": {}
      },
      "source": [
        "df_JobInvolvement = pd.DataFrame(columns=[\"Job Involvement\", \"% of Leavers\"])\n",
        "i=0\n",
        "for field in list(df_hr['JobInvolvement'].unique()):\n",
        "    ratio = df_hr[(df_hr['JobInvolvement']==field)&(df_hr['Attrition']==\"Yes\")].shape[0] / df_hr[df_hr['JobInvolvement']==field].shape[0]\n",
        "    df_JobInvolvement.loc[i] = (field, ratio*100)\n",
        "    i += 1\n",
        "    print(\"In {}, the ratio of leavers is {:.2f}%\".format(field, ratio*100)) \n",
        "\n",
        "enable_plotly_in_cell()       \n",
        "df_JI = df_JobInvolvement.groupby(by=\"Job Involvement\").sum()\n",
        "df_JI.iplot(kind='bar',title='Leavers by Job Involvement (%)')"
      ],
      "execution_count": 0,
      "outputs": []
    },
    {
      "cell_type": "code",
      "metadata": {
        "colab_type": "code",
        "id": "NPwBZQwxh3rx",
        "colab": {}
      },
      "source": [
        "print(\"Number of training times last year varies from {} to {} years.\".format(\n",
        "    df_hr['TrainingTimesLastYear'].min(), df_hr['TrainingTimesLastYear'].max()))"
      ],
      "execution_count": 0,
      "outputs": []
    },
    {
      "cell_type": "code",
      "metadata": {
        "colab_type": "code",
        "id": "sTivHwQomN1t",
        "colab": {}
      },
      "source": [
        "x1 = df_hr.loc[df_hr['Attrition'] == 'No', 'TrainingTimesLastYear']\n",
        "x2 = df_hr.loc[df_hr['Attrition'] == 'Yes', 'TrainingTimesLastYear']\n",
        "\n",
        "\n",
        "hist_data = [x1, x2]\n",
        "group_labels = ['Active Employees', 'Ex-Employees']\n",
        "fig = ff.create_distplot(hist_data, group_labels,\n",
        "                         curve_type='kde', show_hist=False, show_rug=False)\n",
        "fig['layout'].update(\n",
        "    title='Training Times Last Year metric in Percent by Attrition Status')\n",
        "fig['layout'].update(xaxis=dict(range=[0, 6], dtick=1))\n",
        "\n",
        "fig.show(renderer='colab')"
      ],
      "execution_count": 0,
      "outputs": []
    },
    {
      "cell_type": "code",
      "metadata": {
        "colab_type": "code",
        "id": "nw_nHSNUmce3",
        "colab": {}
      },
      "source": [
        "df_hr['NumCompaniesWorked'].value_counts()"
      ],
      "execution_count": 0,
      "outputs": []
    },
    {
      "cell_type": "code",
      "metadata": {
        "colab_type": "code",
        "id": "5VRFbBbRmw_A",
        "colab": {}
      },
      "source": [
        "df_NumCompaniesWorked = pd.DataFrame(columns=[\"Num Companies Worked\", \"% of Leavers\"])\n",
        "i=0\n",
        "for field in list(df_hr['NumCompaniesWorked'].unique()):\n",
        "    ratio = df_hr[(df_hr['NumCompaniesWorked']==field)&(df_hr['Attrition']==\"Yes\")].shape[0] / df_hr[df_hr['NumCompaniesWorked']==field].shape[0]\n",
        "    df_NumCompaniesWorked.loc[i] = (field, ratio*100)\n",
        "    i += 1\n",
        "    print(\"In {}, the ratio of leavers is {:.2f}%\".format(field, ratio*100)) \n",
        "\n",
        "enable_plotly_in_cell()       \n",
        "df_NC = df_NumCompaniesWorked.groupby(by=\"Num Companies Worked\").sum()\n",
        "df_NC.iplot(kind='bar',title='Leavers by Num Companies Worked (%)')"
      ],
      "execution_count": 0,
      "outputs": []
    },
    {
      "cell_type": "code",
      "metadata": {
        "colab_type": "code",
        "id": "kZ6GyRl6nEdQ",
        "colab": {}
      },
      "source": [
        "#Years at Company\n",
        "df_hr['YearsAtCompany'].value_counts()"
      ],
      "execution_count": 0,
      "outputs": []
    },
    {
      "cell_type": "code",
      "metadata": {
        "colab_type": "code",
        "id": "1W2ZSvv8oTEu",
        "colab": {}
      },
      "source": [
        "print('Average Number of Years at the company for currently active employees: {:.2f} miles and ex-employees: {:.2f} years'\n",
        "        .format( df_hr[df_hr['Attrition'] == 'No']['YearsAtCompany'].mean(), df_hr[df_hr['Attrition'] == 'Yes']['YearsAtCompany'].mean()))\n"
      ],
      "execution_count": 0,
      "outputs": []
    },
    {
      "cell_type": "code",
      "metadata": {
        "colab_type": "code",
        "id": "01HqtkUKopLD",
        "colab": {}
      },
      "source": [
        "print(\"Number of Years at the company varies from {} to {} years.\".format(\n",
        "    df_hr['YearsAtCompany'].min(), df_hr['YearsAtCompany'].max()))"
      ],
      "execution_count": 0,
      "outputs": []
    },
    {
      "cell_type": "code",
      "metadata": {
        "colab_type": "code",
        "id": "DTZNEh7Co8la",
        "colab": {}
      },
      "source": [
        "x1 = df_hr.loc[df_hr['Attrition'] == 'No', 'YearsAtCompany']\n",
        "x2 = df_hr.loc[df_hr['Attrition'] == 'Yes', 'YearsAtCompany']\n",
        "\n",
        "hist_data = [x1, x2]\n",
        "group_labels = ['Active Employees', 'Ex-Employees']\n",
        "\n",
        "fig = ff.create_distplot(hist_data, group_labels,\n",
        "                         curve_type='kde', show_hist=False, show_rug=False)\n",
        "fig['layout'].update(title='Years At Company in Percent by Attrition Status')\n",
        "fig['layout'].update(xaxis=dict(range=[0, 40], dtick=5))\n",
        "\n",
        "fig.show(renderer='colab')\n"
      ],
      "execution_count": 0,
      "outputs": []
    },
    {
      "cell_type": "code",
      "metadata": {
        "colab_type": "code",
        "id": "goCWZFS-pZ8X",
        "colab": {}
      },
      "source": [
        "print(\"Number of Years in the current role varies from {} to {} years.\".format(\n",
        "    df_hr['YearsInCurrentRole'].min(), df_hr['YearsInCurrentRole'].max()))"
      ],
      "execution_count": 0,
      "outputs": []
    },
    {
      "cell_type": "code",
      "metadata": {
        "colab_type": "code",
        "id": "sovhLYWuqrdJ",
        "colab": {}
      },
      "source": [
        "x1 = df_hr.loc[df_hr['Attrition'] == 'No', 'YearsInCurrentRole']\n",
        "x2 = df_hr.loc[df_hr['Attrition'] == 'Yes', 'YearsInCurrentRole']\n",
        "\n",
        "hist_data = [x1, x2]\n",
        "group_labels = ['Active Employees', 'Ex-Employees']\n",
        "\n",
        "fig = ff.create_distplot(hist_data, group_labels,\n",
        "                         curve_type='kde', show_hist=False, show_rug=False)\n",
        "\n",
        "fig['layout'].update(title='Years In Current Role in Percent by Attrition Status')\n",
        "fig['layout'].update(xaxis=dict(range=[0, 18], dtick=1))\n",
        "\n",
        "fig.show(renderer='colab')\n"
      ],
      "execution_count": 0,
      "outputs": []
    },
    {
      "cell_type": "code",
      "metadata": {
        "colab_type": "code",
        "id": "qymfriRAriwD",
        "colab": {}
      },
      "source": [
        "print(\"Number of Years since last promotion varies from {} to {} years.\".format(\n",
        "    df_hr['YearsSinceLastPromotion'].min(), df_hr['YearsSinceLastPromotion'].max()))\n"
      ],
      "execution_count": 0,
      "outputs": []
    },
    {
      "cell_type": "code",
      "metadata": {
        "colab_type": "code",
        "id": "8GlzRZfvsPWj",
        "colab": {}
      },
      "source": [
        "x1 = df_hr.loc[df_hr['Attrition'] == 'No', 'YearsSinceLastPromotion']\n",
        "x2 = df_hr.loc[df_hr['Attrition'] == 'Yes', 'YearsSinceLastPromotion']\n",
        "\n",
        "hist_data = [x1, x2]\n",
        "group_labels = ['Active Employees', 'Ex-Employees']\n",
        "\n",
        "fig = ff.create_distplot(hist_data, group_labels,\n",
        "                         curve_type='kde', show_hist=False, show_rug=False)\n",
        "\n",
        "fig['layout'].update(title='Years Since Last Promotion in Percent by Attrition Status')\n",
        "fig['layout'].update(xaxis=dict(range=[0, 15], dtick=1))\n",
        "\n",
        "fig.show(renderer='colab')"
      ],
      "execution_count": 0,
      "outputs": []
    },
    {
      "cell_type": "code",
      "metadata": {
        "colab_type": "code",
        "id": "AqvTStreseA-",
        "colab": {}
      },
      "source": [
        "print(\"Total working years varies from {} to {} years.\".format(\n",
        "    df_hr['TotalWorkingYears'].min(), df_hr['TotalWorkingYears'].max()))"
      ],
      "execution_count": 0,
      "outputs": []
    },
    {
      "cell_type": "code",
      "metadata": {
        "colab_type": "code",
        "id": "9McPqlB5vyI0",
        "colab": {}
      },
      "source": [
        "\n",
        "x1 = df_hr.loc[df_hr['Attrition'] == 'No', 'TotalWorkingYears']\n",
        "x2 = df_hr.loc[df_hr['Attrition'] == 'Yes', 'TotalWorkingYears']\n",
        "\n",
        "hist_data = [x1, x2]\n",
        "group_labels = ['Active Employees', 'Ex-Employees']\n",
        "\n",
        "fig = ff.create_distplot(hist_data, group_labels,\n",
        "                         curve_type='kde', show_hist=False, show_rug=False)\n",
        "\n",
        "fig['layout'].update(title='Total Working Years in Percent by Attrition Status')\n",
        "fig['layout'].update(xaxis=dict(range=[0, 40], dtick=5))\n",
        "\n",
        "fig.show(renderer='colab')"
      ],
      "execution_count": 0,
      "outputs": []
    },
    {
      "cell_type": "code",
      "metadata": {
        "colab_type": "code",
        "id": "O80SgKR4v-r4",
        "colab": {}
      },
      "source": [
        "#Years with current Manager\n",
        "\n",
        "print('Average Number of Years with current manager for currently active employees: {:.2f} years and ex-employees: {:.2f} years'.format(\n",
        "    df_hr[df_hr['Attrition'] == 'No']['YearsWithCurrManager'].mean(), df_hr[df_hr['Attrition'] == 'Yes']['YearsWithCurrManager'].mean()))"
      ],
      "execution_count": 0,
      "outputs": []
    },
    {
      "cell_type": "code",
      "metadata": {
        "colab_type": "code",
        "id": "zNsBtYqVwQjk",
        "colab": {}
      },
      "source": [
        "print(\"Number of Years with current manager varies from {} to {} years.\".format(\n",
        "    df_hr['YearsWithCurrManager'].min(), df_hr['YearsWithCurrManager'].max()))\n"
      ],
      "execution_count": 0,
      "outputs": []
    },
    {
      "cell_type": "code",
      "metadata": {
        "colab_type": "code",
        "id": "I4Z0nZO4wiOq",
        "colab": {}
      },
      "source": [
        "\n",
        "x1 = df_hr.loc[df_hr['Attrition'] == 'No', 'YearsWithCurrManager']\n",
        "x2 = df_hr.loc[df_hr['Attrition'] == 'Yes', 'YearsWithCurrManager']\n",
        "\n",
        "hist_data = [x1, x2]\n",
        "group_labels = ['Active Employees', 'Ex-Employees']\n",
        "\n",
        "fig = ff.create_distplot(hist_data, group_labels,\n",
        "                         curve_type='kde', show_hist=False, show_rug=False)\n",
        "\n",
        "fig['layout'].update(\n",
        "    title='Years With Current Manager in Percent by Attrition Status')\n",
        "fig['layout'].update(xaxis=dict(range=[0, 17], dtick=1))\n",
        "\n",
        "fig.show(renderer='colab')"
      ],
      "execution_count": 0,
      "outputs": []
    },
    {
      "cell_type": "code",
      "metadata": {
        "colab_type": "code",
        "id": "azn4SVmKwuz9",
        "colab": {}
      },
      "source": [
        "#Work-Life Balance\n",
        "df_hr['WorkLifeBalance'].value_counts()\n"
      ],
      "execution_count": 0,
      "outputs": []
    },
    {
      "cell_type": "code",
      "metadata": {
        "colab_type": "code",
        "id": "zX5R8GE2xAHq",
        "colab": {}
      },
      "source": [
        "df_WorkLifeBalance = pd.DataFrame(columns=[\"WorkLifeBalance\", \"% of Leavers\"])\n",
        "i=0\n",
        "for field in list(df_hr['WorkLifeBalance'].unique()):\n",
        "    ratio = df_hr[(df_hr['WorkLifeBalance']==field)&(df_hr['Attrition']==\"Yes\")].shape[0] / df_hr[df_hr['WorkLifeBalance']==field].shape[0]\n",
        "    df_WorkLifeBalance.loc[i] = (field, ratio*100)\n",
        "    i += 1\n",
        "    print(\"In {}, the ratio of leavers is {:.2f}%\".format(field, ratio*100)) \n",
        "\n",
        "enable_plotly_in_cell()       \n",
        "df_WLB = df_WorkLifeBalance.groupby(by=\"WorkLifeBalance\").sum()\n",
        "df_WLB.iplot(kind='bar',title='Leavers by WorkLifeBalance (%)')"
      ],
      "execution_count": 0,
      "outputs": []
    },
    {
      "cell_type": "code",
      "metadata": {
        "colab_type": "code",
        "id": "oHcCEjIRxOYn",
        "colab": {}
      },
      "source": [
        "df_hr['StandardHours'].value_counts()\n"
      ],
      "execution_count": 0,
      "outputs": []
    },
    {
      "cell_type": "code",
      "metadata": {
        "colab_type": "code",
        "id": "CqhBlOS-xjsU",
        "colab": {}
      },
      "source": [
        "df_hr['OverTime'].value_counts()\n"
      ],
      "execution_count": 0,
      "outputs": []
    },
    {
      "cell_type": "code",
      "metadata": {
        "colab_type": "code",
        "id": "vtVvZbzSxnUT",
        "colab": {}
      },
      "source": [
        "df_OverTime = pd.DataFrame(columns=[\"OverTime\", \"% of Leavers\"])\n",
        "i=0\n",
        "for field in list(df_hr['OverTime'].unique()):\n",
        "    ratio = df_hr[(df_hr['OverTime']==field)&(df_hr['Attrition']==\"Yes\")].shape[0] / df_hr[df_hr['OverTime']==field].shape[0]\n",
        "    df_OverTime.loc[i] = (field, ratio*100)\n",
        "    i += 1\n",
        "    print(\"In {}, the ratio of leavers is {:.2f}%\".format(field, ratio*100))\n",
        "\n",
        "enable_plotly_in_cell()        \n",
        "df_OT = df_OverTime.groupby(by=\"OverTime\").sum()\n",
        "df_OT.iplot(kind='bar',title='Leavers by OverTime (%)')"
      ],
      "execution_count": 0,
      "outputs": []
    },
    {
      "cell_type": "code",
      "metadata": {
        "colab_type": "code",
        "id": "lCxANsxhx1K2",
        "colab": {}
      },
      "source": [
        "#Employee wage information\n",
        "\n",
        "print(\"Employee Hourly Rate varies from ${} to ${}.\".format(\n",
        "    df_hr['HourlyRate'].min(), df_hr['HourlyRate'].max()))\n"
      ],
      "execution_count": 0,
      "outputs": []
    },
    {
      "cell_type": "code",
      "metadata": {
        "colab_type": "code",
        "id": "AattSaOnyeij",
        "colab": {}
      },
      "source": [
        "print(\"Employee Daily Rate varies from ${} to ${}.\".format(\n",
        "    df_hr['DailyRate'].min(), df_hr['DailyRate'].max()))"
      ],
      "execution_count": 0,
      "outputs": []
    },
    {
      "cell_type": "code",
      "metadata": {
        "colab_type": "code",
        "id": "yRZPJygpyknJ",
        "colab": {}
      },
      "source": [
        "print(\"Employee Monthly Rate varies from ${} to ${}.\".format(\n",
        "    df_hr['MonthlyRate'].min(), df_hr['MonthlyRate'].max()))"
      ],
      "execution_count": 0,
      "outputs": []
    },
    {
      "cell_type": "code",
      "metadata": {
        "colab_type": "code",
        "id": "KFOJgEvfys9C",
        "colab": {}
      },
      "source": [
        "print(\"Employee Monthly Income varies from ${} to ${}.\".format(\n",
        "    df_hr['MonthlyIncome'].min(), df_hr['MonthlyIncome'].max()))"
      ],
      "execution_count": 0,
      "outputs": []
    },
    {
      "cell_type": "code",
      "metadata": {
        "colab_type": "code",
        "id": "sbuEoR36yxym",
        "colab": {}
      },
      "source": [
        "\n",
        "x1 = df_hr.loc[df_hr['Attrition'] == 'No', 'MonthlyIncome']\n",
        "x2 = df_hr.loc[df_hr['Attrition'] == 'Yes', 'MonthlyIncome']\n",
        "\n",
        "hist_data = [x1, x2]\n",
        "group_labels = ['Active Employees', 'Ex-Employees']\n",
        "\n",
        "fig = ff.create_distplot(hist_data, group_labels,\n",
        "                         curve_type='kde', show_hist=False, show_rug=False)\n",
        "\n",
        "fig['layout'].update(title='Monthly Income by Attrition Status')\n",
        "fig['layout'].update(xaxis=dict(range=[0, 20000], dtick=2000))\n",
        "\n",
        "fig.show(renderer='colab')"
      ],
      "execution_count": 0,
      "outputs": []
    },
    {
      "cell_type": "code",
      "metadata": {
        "colab_type": "code",
        "id": "jVEf-FlEzEjb",
        "colab": {}
      },
      "source": [
        "print(\"Percentage Salary Hikes varies from {}% to {}%.\".format(\n",
        "    df_hr['PercentSalaryHike'].min(), df_hr['PercentSalaryHike'].max()))"
      ],
      "execution_count": 0,
      "outputs": []
    },
    {
      "cell_type": "code",
      "metadata": {
        "colab_type": "code",
        "id": "rrx0ke8D0c7E",
        "colab": {}
      },
      "source": [
        "x1 = df_hr.loc[df_hr['Attrition'] == 'No', 'PercentSalaryHike']\n",
        "x2 = df_hr.loc[df_hr['Attrition'] == 'Yes', 'PercentSalaryHike']\n",
        "\n",
        "hist_data = [x1, x2]\n",
        "group_labels = ['Active Employees', 'Ex-Employees']\n",
        "\n",
        "fig = ff.create_distplot(hist_data, group_labels,\n",
        "                         curve_type='kde', show_hist=False, show_rug=False)\n",
        "\n",
        "fig['layout'].update(title='Percent Salary Hike by Attrition Status')\n",
        "fig['layout'].update(xaxis=dict(range=[10, 26], dtick=1))\n",
        "\n",
        "fig.show(renderer='colab')"
      ],
      "execution_count": 0,
      "outputs": []
    },
    {
      "cell_type": "code",
      "metadata": {
        "colab_type": "code",
        "id": "mlFbjuWD0r-K",
        "colab": {}
      },
      "source": [
        "print(\"Stock Option Levels varies from {} to {}.\".format(\n",
        "    df_hr['StockOptionLevel'].min(), df_hr['StockOptionLevel'].max()))"
      ],
      "execution_count": 0,
      "outputs": []
    },
    {
      "cell_type": "code",
      "metadata": {
        "colab_type": "code",
        "id": "QZLpx1qt066a",
        "colab": {}
      },
      "source": [
        "print(\"Normalised percentage of leavers by Stock Option Level: 1: {:.2f}%, 2: {:.2f}%, 3: {:.2f}%\".format(\n",
        "    df_hr[(df_hr['Attrition'] == 'Yes') & (df_hr['StockOptionLevel'] == 1)\n",
        "          ].shape[0] / df_hr[df_hr['StockOptionLevel'] == 1].shape[0]*100,\n",
        "    df_hr[(df_hr['Attrition'] == 'Yes') & (df_hr['StockOptionLevel'] == 2)\n",
        "          ].shape[0] / df_hr[df_hr['StockOptionLevel'] == 1].shape[0]*100,\n",
        "    df_hr[(df_hr['Attrition'] == 'Yes') & (df_hr['StockOptionLevel'] == 3)].shape[0] / df_hr[df_hr['StockOptionLevel'] == 1].shape[0]*100))"
      ],
      "execution_count": 0,
      "outputs": []
    },
    {
      "cell_type": "code",
      "metadata": {
        "colab_type": "code",
        "id": "4aILBgKC1Hqj",
        "colab": {}
      },
      "source": [
        "df_StockOptionLevel = pd.DataFrame(columns=[\"StockOptionLevel\", \"% of Leavers\"])\n",
        "i=0\n",
        "for field in list(df_hr['StockOptionLevel'].unique()):\n",
        "    ratio = df_hr[(df_hr['StockOptionLevel']==field)&(df_hr['Attrition']==\"Yes\")].shape[0] / df_hr[df_hr['StockOptionLevel']==field].shape[0]\n",
        "    df_StockOptionLevel.loc[i] = (field, ratio*100)\n",
        "    i += 1\n",
        "    print(\"In {}, the ratio of leavers is {:.2f}%\".format(field, ratio*100)) \n",
        "\n",
        "enable_plotly_in_cell()   \n",
        "df_SOL = df_StockOptionLevel.groupby(by=\"StockOptionLevel\").sum()\n",
        "df_SOL.iplot(kind='bar',title='Leavers by Stock Option Level (%)')"
      ],
      "execution_count": 0,
      "outputs": []
    },
    {
      "cell_type": "code",
      "metadata": {
        "colab_type": "code",
        "id": "zdg-BE9A18aL",
        "colab": {}
      },
      "source": [
        "#Employee Satisfaction and Performance\n",
        "\n",
        "df_hr['EnvironmentSatisfaction'].value_counts()\n"
      ],
      "execution_count": 0,
      "outputs": []
    },
    {
      "cell_type": "code",
      "metadata": {
        "colab_type": "code",
        "id": "tuTxBGB06sw7",
        "colab": {}
      },
      "source": [
        "df_EnvironmentSatisfaction = pd.DataFrame(columns=[\"EnvironmentSatisfaction\", \"% of Leavers\"])\n",
        "i=0\n",
        "for field in list(df_hr['EnvironmentSatisfaction'].unique()):\n",
        "    ratio = df_hr[(df_hr['EnvironmentSatisfaction']==field)&(df_hr['Attrition']==\"Yes\")].shape[0] / df_hr[df_hr['EnvironmentSatisfaction']==field].shape[0]\n",
        "    df_EnvironmentSatisfaction.loc[i] = (field, ratio*100)\n",
        "    i += 1\n",
        "    print(\"In {}, the ratio of leavers is {:.2f}%\".format(field, ratio*100)) \n",
        "\n",
        "enable_plotly_in_cell()   \n",
        "df_Env = df_EnvironmentSatisfaction.groupby(by=\"EnvironmentSatisfaction\").sum()\n",
        "df_Env.iplot(kind='bar',title='Leavers by Environment Satisfaction (%)')"
      ],
      "execution_count": 0,
      "outputs": []
    },
    {
      "cell_type": "code",
      "metadata": {
        "colab_type": "code",
        "id": "er5gtbnD64Xj",
        "colab": {}
      },
      "source": [
        "df_hr['JobSatisfaction'].value_counts()"
      ],
      "execution_count": 0,
      "outputs": []
    },
    {
      "cell_type": "code",
      "metadata": {
        "colab_type": "code",
        "id": "sxJj-w-x6_cN",
        "colab": {}
      },
      "source": [
        "df_JobSatisfaction = pd.DataFrame(columns=[\"JobSatisfaction\", \"% of Leavers\"])\n",
        "i=0\n",
        "for field in list(df_hr['JobSatisfaction'].unique()):\n",
        "    ratio = df_hr[(df_hr['JobSatisfaction']==field)&(df_hr['Attrition']==\"Yes\")].shape[0] / df_hr[df_hr['JobSatisfaction']==field].shape[0]\n",
        "    df_JobSatisfaction.loc[i] = (field, ratio*100)\n",
        "    i += 1\n",
        "    print(\"In {}, the ratio of leavers is {:.2f}%\".format(field, ratio*100))   \n",
        "\n",
        "enable_plotly_in_cell()     \n",
        "df_JS = df_JobSatisfaction.groupby(by=\"JobSatisfaction\").sum()\n",
        "df_JS.iplot(kind='bar',title='Leavers by Job Satisfaction (%)')"
      ],
      "execution_count": 0,
      "outputs": []
    },
    {
      "cell_type": "code",
      "metadata": {
        "colab_type": "code",
        "id": "9j-VQtmD7JKM",
        "colab": {}
      },
      "source": [
        "df_hr['RelationshipSatisfaction'].value_counts()\n"
      ],
      "execution_count": 0,
      "outputs": []
    },
    {
      "cell_type": "code",
      "metadata": {
        "colab_type": "code",
        "id": "f5SlOvZv7hYI",
        "colab": {}
      },
      "source": [
        "df_RelationshipSatisfaction = pd.DataFrame(columns=[\"RelationshipSatisfaction\", \"% of Leavers\"])\n",
        "i=0\n",
        "for field in list(df_hr['RelationshipSatisfaction'].unique()):\n",
        "    ratio = df_hr[(df_hr['RelationshipSatisfaction']==field)&(df_hr['Attrition']==\"Yes\")].shape[0] / df_hr[df_hr['RelationshipSatisfaction']==field].shape[0]\n",
        "    df_RelationshipSatisfaction.loc[i] = (field, ratio*100)\n",
        "    i += 1\n",
        "    print(\"In {}, the ratio of leavers is {:.2f}%\".format(field, ratio*100))  \n",
        "\n",
        "enable_plotly_in_cell()      \n",
        "df_RS = df_RelationshipSatisfaction.groupby(by=\"RelationshipSatisfaction\").sum()\n",
        "df_RS.iplot(kind='bar',title='Leavers by Relationship Satisfaction (%)')"
      ],
      "execution_count": 0,
      "outputs": []
    },
    {
      "cell_type": "code",
      "metadata": {
        "colab_type": "code",
        "id": "lvO8IeRS7qV9",
        "colab": {}
      },
      "source": [
        "df_hr['PerformanceRating'].value_counts()\n"
      ],
      "execution_count": 0,
      "outputs": []
    },
    {
      "cell_type": "code",
      "metadata": {
        "colab_type": "code",
        "id": "mxiAeehr73Df",
        "colab": {}
      },
      "source": [
        "print(\"Normalised percentage of leavers by Stock Option Level: 3: {:.2f}%, 4: {:.2f}%\".format(\n",
        "    df_hr[(df_hr['Attrition'] == 'Yes') & (df_hr['PerformanceRating'] == 3)\n",
        "          ].shape[0] / df_hr[df_hr['StockOptionLevel'] == 1].shape[0]*100,\n",
        "    df_hr[(df_hr['Attrition'] == 'Yes') & (df_hr['PerformanceRating'] == 4)].shape[0] / df_hr[df_hr['StockOptionLevel'] == 1].shape[0]*100))"
      ],
      "execution_count": 0,
      "outputs": []
    },
    {
      "cell_type": "code",
      "metadata": {
        "colab_type": "code",
        "id": "AXwoOaIU8GxE",
        "colab": {}
      },
      "source": [
        "df_PerformanceRating = pd.DataFrame(columns=[\"PerformanceRating\", \"% of Leavers\"])\n",
        "i=0\n",
        "for field in list(df_hr['PerformanceRating'].unique()):\n",
        "    ratio = df_hr[(df_hr['PerformanceRating']==field)&(df_hr['Attrition']==\"Yes\")].shape[0] / df_hr[df_hr['PerformanceRating']==field].shape[0]\n",
        "    df_PerformanceRating.loc[i] = (field, ratio*100)\n",
        "    i += 1\n",
        "    print(\"In {}, the ratio of leavers is {:.2f}%\".format(field, ratio*100))\n",
        "\n",
        "enable_plotly_in_cell()        \n",
        "df_PR = df_PerformanceRating.groupby(by=\"PerformanceRating\").sum()\n",
        "df_PR.iplot(kind='bar',title='Leavers by Performance Rating (%)')"
      ],
      "execution_count": 0,
      "outputs": []
    },
    {
      "cell_type": "code",
      "metadata": {
        "colab_type": "code",
        "id": "p-cFQBhw8UkB",
        "colab": {}
      },
      "source": [
        "#Attrition (Target Variable)\n",
        "df_hr['Attrition'].value_counts()\n"
      ],
      "execution_count": 0,
      "outputs": []
    },
    {
      "cell_type": "code",
      "metadata": {
        "colab_type": "code",
        "id": "T1z5m4cU8hjR",
        "colab": {}
      },
      "source": [
        "print(\"Percentage of Current Employees is {:.1f}% and of Ex-employees is: {:.1f}%\".format(\n",
        "    df_hr[df_hr['Attrition'] == 'No'].shape[0] / df_hr.shape[0]*100,\n",
        "    df_hr[df_hr['Attrition'] == 'Yes'].shape[0] / df_hr.shape[0]*100))"
      ],
      "execution_count": 0,
      "outputs": []
    },
    {
      "cell_type": "code",
      "metadata": {
        "colab_type": "code",
        "id": "ZGBIPm9L8o0w",
        "colab": {}
      },
      "source": [
        "enable_plotly_in_cell()\n",
        "df_hr['Attrition'].iplot(kind='hist', xTitle='Attrition',\n",
        "                         yTitle='count', title='Attrition Distribution')"
      ],
      "execution_count": 0,
      "outputs": []
    },
    {
      "cell_type": "markdown",
      "metadata": {
        "colab_type": "text",
        "id": "0N9oLgqB9F6c"
      },
      "source": [
        "This is an imbalanced class program.\n"
      ]
    },
    {
      "cell_type": "markdown",
      "metadata": {
        "colab_type": "text",
        "id": "KCasphej9RTR"
      },
      "source": [
        "Computing Correlation"
      ]
    },
    {
      "cell_type": "code",
      "metadata": {
        "colab_type": "code",
        "id": "ZmnTeMzk9TA9",
        "colab": {}
      },
      "source": [
        "# Taking only significant correlations\n",
        "df_HR_trans = df_hr.copy()\n",
        "df_HR_trans['Target'] = df_HR_trans['Attrition'].apply(\n",
        "    lambda x: 0 if x == 'No' else 1)\n",
        "df_HR_trans = df_HR_trans.drop(\n",
        "    ['Attrition', 'EmployeeCount', 'EmployeeNumber', 'StandardHours', 'Over18'], axis=1)\n",
        "correlations = df_HR_trans.corr()['Target'].sort_values()\n",
        "print('Most Positive Correlations: \\n', correlations.tail(5))\n",
        "print('\\nMost Negative Correlations: \\n', correlations.head(5))"
      ],
      "execution_count": 0,
      "outputs": []
    },
    {
      "cell_type": "code",
      "metadata": {
        "colab_type": "code",
        "id": "USXaguR891rI",
        "colab": {}
      },
      "source": [
        "# Calculate correlations\n",
        "corr = df_HR_trans.corr()\n",
        "mask = np.zeros_like(corr)\n",
        "mask[np.triu_indices_from(mask)] = True\n",
        "# Heatmap\n",
        "plt.figure(figsize=(15, 10))\n",
        "sns.heatmap(corr,\n",
        "            vmax=.5,\n",
        "            mask=mask,\n",
        "            linewidths=.2, cmap=\"YlGnBu\")"
      ],
      "execution_count": 0,
      "outputs": []
    },
    {
      "cell_type": "markdown",
      "metadata": {
        "colab_type": "text",
        "id": "Kyw5ruFVTNRa"
      },
      "source": [
        "Results of Exploratory Data Analysis:\n",
        "\n",
        "1) The data set doesn't have any missing/erraneous value\n",
        "\n",
        "2) Strongest positive correlations with the target features are : DistanceFromHome, Monthly Rate, Num. Companies Worked, Performance Rating\n",
        "\n",
        "3) Strongest negative correlation with the target features are : Total Working Years, Job Level, Years In Current Role, Monthly Income.\n",
        "\n",
        "4) Dataset is observed to be imbalanced\n",
        "\n",
        "5) Redundant features include : EmployeeCount, EmployeeNumber, StandardHours, and Over18. "
      ]
    },
    {
      "cell_type": "markdown",
      "metadata": {
        "colab_type": "text",
        "id": "eZ1U701DVlcL"
      },
      "source": [
        "Some observations about the people leaving :\n",
        "\n",
        "1) Single employees comprise of the largest proportion.\n",
        "\n",
        "2) People who will further away.\n",
        "\n",
        "3) People who travel frequently\n",
        "\n",
        "4) People who often work overtime"
      ]
    },
    {
      "cell_type": "code",
      "metadata": {
        "colab_type": "code",
        "id": "objY0_qg-aRd",
        "colab": {}
      },
      "source": [
        "#Data Pre-processing (Encoding categorical labels with numerical values , \n",
        "#                      One-Hot encoding to avoid intoducing feature importance)\n",
        "\n",
        "from sklearn.preprocessing import LabelEncoder, OneHotEncoder\n",
        " \n",
        "le = LabelEncoder()\n",
        "print(df_hr.shape)\n",
        "df_hr.head()\n",
        "\n"
      ],
      "execution_count": 0,
      "outputs": []
    },
    {
      "cell_type": "code",
      "metadata": {
        "colab_type": "code",
        "id": "14Ac0BcAYWqq",
        "colab": {}
      },
      "source": [
        "#label encoding for features with less than 3 unique values\n",
        "le_count = 0\n",
        "for col in df_hr.columns[1:]:\n",
        "    if df_hr[col].dtype == 'object':\n",
        "        if len(list(df_hr[col].unique())) <= 2:\n",
        "            le.fit(df_hr[col])\n",
        "            df_hr[col] = le.transform(df_hr[col])\n",
        "            le_count += 1\n",
        "print('{} columns were label encoded.'.format(le_count))"
      ],
      "execution_count": 0,
      "outputs": []
    },
    {
      "cell_type": "code",
      "metadata": {
        "colab_type": "code",
        "id": "-K9dP5jjc_ul",
        "colab": {}
      },
      "source": [
        "df_hr = pd.get_dummies(df_hr, drop_first=True) #Rest catergorical variables converted to dummies"
      ],
      "execution_count": 0,
      "outputs": []
    },
    {
      "cell_type": "code",
      "metadata": {
        "colab_type": "code",
        "id": "MaF5c18qdTlp",
        "colab": {}
      },
      "source": [
        "print(df_hr.shape)\n",
        "df_hr.head()"
      ],
      "execution_count": 0,
      "outputs": []
    },
    {
      "cell_type": "code",
      "metadata": {
        "colab_type": "code",
        "id": "ORhqBStkeUPo",
        "colab": {}
      },
      "source": [
        "#Feature Scaling (Range 0 to 5)\n",
        "from sklearn.preprocessing import MinMaxScaler\n",
        "\n",
        "scaler = MinMaxScaler(feature_range=(0, 5))\n",
        "HR_col = list(df_hr.columns)\n",
        "HR_col.remove('Attrition')\n",
        "for col in HR_col:\n",
        "    df_hr[col] = df_hr[col].astype(float)\n",
        "    df_hr[[col]] = scaler.fit_transform(df_hr[[col]])\n",
        "df_hr['Attrition'] = pd.to_numeric(df_hr['Attrition'], downcast='float')\n",
        "df_hr.head()\n"
      ],
      "execution_count": 0,
      "outputs": []
    },
    {
      "cell_type": "code",
      "metadata": {
        "colab_type": "code",
        "id": "GI1ITFPvhD8j",
        "colab": {}
      },
      "source": [
        "print('Size of Full Encoded Dataset: {}'. format(df_hr.shape))\n"
      ],
      "execution_count": 0,
      "outputs": []
    },
    {
      "cell_type": "code",
      "metadata": {
        "colab_type": "code",
        "id": "_hkF73E2hbw3",
        "colab": {}
      },
      "source": [
        "#Splitting data into train and test sets\n",
        "\n",
        "target = df_hr['Attrition'].copy()\n",
        "\n",
        "df_hr.drop(['Attrition', 'EmployeeCount', 'EmployeeNumber',\n",
        "            'StandardHours', 'Over18'], axis=1, inplace=True)\n",
        "print('Size of Full dataset is: {}'.format(df_hr.shape))\n"
      ],
      "execution_count": 0,
      "outputs": []
    },
    {
      "cell_type": "code",
      "metadata": {
        "colab_type": "code",
        "id": "uAM4ObmfiKru",
        "colab": {}
      },
      "source": [
        "X_train, X_test, y_train, y_test = train_test_split(df_hr,\n",
        "                                                    target,\n",
        "                                                    test_size=0.25,\n",
        "                                                    random_state=7,\n",
        "                                                    stratify=target)  \n",
        "print(\"Number transactions X_train dataset: \", X_train.shape)\n",
        "print(\"Number transactions y_train dataset: \", y_train.shape)\n",
        "print(\"Number transactions X_test dataset: \", X_test.shape)\n",
        "print(\"Number transactions y_test dataset: \", y_test.shape)"
      ],
      "execution_count": 0,
      "outputs": []
    },
    {
      "cell_type": "markdown",
      "metadata": {
        "colab_type": "text",
        "id": "MT0s_9aViikK"
      },
      "source": [
        "Building Machine learning Algortihms\n"
      ]
    },
    {
      "cell_type": "code",
      "metadata": {
        "colab_type": "code",
        "id": "eE3zt7YOiSmt",
        "colab": {}
      },
      "source": [
        "#Algorithms implemented : Logistic Regression, Random Forest, SVM, KNN, Decision Tree Classifier, Gaussian NB.\n",
        "\n",
        "models = []\n",
        "models.append(('Logistic Regression', LogisticRegression(solver='liblinear', random_state=7,\n",
        "                                                         class_weight='balanced')))\n",
        "models.append(('Random Forest', RandomForestClassifier(\n",
        "    n_estimators=100, random_state=7)))\n",
        "models.append(('SVM', SVC(gamma='auto', random_state=7)))\n",
        "models.append(('KNN', KNeighborsClassifier()))\n",
        "models.append(('Decision Tree Classifier',\n",
        "               DecisionTreeClassifier(random_state=7)))\n",
        "models.append(('Gaussian NB', GaussianNB()))"
      ],
      "execution_count": 0,
      "outputs": []
    },
    {
      "cell_type": "code",
      "metadata": {
        "colab_type": "code",
        "id": "-IchjZcmi6ZU",
        "colab": {}
      },
      "source": [
        "#Evaulating each model and providing the accuracy and standard deviation scores\n",
        "\n",
        "acc_results = []\n",
        "auc_results = []\n",
        "names = []\n",
        "\n",
        "col = ['Algorithm', 'ROC AUC Mean', 'ROC AUC STD', \n",
        "       'Accuracy Mean', 'Accuracy STD']\n",
        "df_results = pd.DataFrame(columns=col)\n",
        "i = 0\n",
        "# evaluating each model using cross-validation\n",
        "for name, model in models:\n",
        "    kfold = model_selection.KFold(\n",
        "        n_splits=10)  # 10-fold cross-validation\n",
        "\n",
        "    cv_acc_results = model_selection.cross_val_score(  # accuracy scoring\n",
        "        model, X_train, y_train, cv=kfold, scoring='accuracy')\n",
        "\n",
        "    cv_auc_results = model_selection.cross_val_score(  # roc_auc scoring\n",
        "        model, X_train, y_train, cv=kfold, scoring='roc_auc')\n",
        "\n",
        "    acc_results.append(cv_acc_results)\n",
        "    auc_results.append(cv_auc_results)\n",
        "    names.append(name)\n",
        "    df_results.loc[i] = [name,\n",
        "                         round(cv_auc_results.mean()*100, 2),\n",
        "                         round(cv_auc_results.std()*100, 2),\n",
        "                         round(cv_acc_results.mean()*100, 2),\n",
        "                         round(cv_acc_results.std()*100, 2)\n",
        "                         ]\n",
        "    i += 1\n",
        "df_results.sort_values(by=['ROC AUC Mean'], ascending=False)\n",
        "\n"
      ],
      "execution_count": 0,
      "outputs": []
    },
    {
      "cell_type": "code",
      "metadata": {
        "colab_type": "code",
        "id": "PoptNcMolTvd",
        "colab": {}
      },
      "source": [
        "fig = plt.figure(figsize=(15, 7))\n",
        "fig.suptitle('Algorithm Accuracy Comparison')\n",
        "ax = fig.add_subplot(111)\n",
        "plt.boxplot(acc_results)\n",
        "ax.set_xticklabels(names)\n",
        "plt.show()"
      ],
      "execution_count": 0,
      "outputs": []
    },
    {
      "cell_type": "code",
      "metadata": {
        "colab_type": "code",
        "id": "NVoQ94CrlydS",
        "colab": {}
      },
      "source": [
        "fig = plt.figure(figsize=(15, 7))\n",
        "fig.suptitle('Algorithm ROC AUC Comparison')\n",
        "ax = fig.add_subplot(111)\n",
        "plt.boxplot(auc_results)\n",
        "ax.set_xticklabels(names)\n",
        "plt.show()"
      ],
      "execution_count": 0,
      "outputs": []
    },
    {
      "cell_type": "code",
      "metadata": {
        "colab_type": "code",
        "id": "LuvdY6s0mGQY",
        "colab": {}
      },
      "source": [
        "#Logistic Regression\n",
        "kfold = model_selection.KFold(n_splits=10)\n",
        "modelCV = LogisticRegression(solver='liblinear',\n",
        "                             class_weight=\"balanced\", \n",
        "                             random_state=7)\n",
        "scoring = 'roc_auc'\n",
        "results = model_selection.cross_val_score(\n",
        "    modelCV, X_train, y_train, cv=kfold, scoring=scoring)\n",
        "print(\"AUC score (STD): %.2f (%.2f)\" % (results.mean(), results.std()))"
      ],
      "execution_count": 0,
      "outputs": []
    },
    {
      "cell_type": "code",
      "metadata": {
        "colab_type": "code",
        "id": "uNR2X6Bom7dj",
        "colab": {}
      },
      "source": [
        "#Fine tuning the hyper-parameters\n",
        "param_grid = {'C': np.arange(1e-03, 2, 0.01)} \n",
        "log_gs = GridSearchCV(LogisticRegression(solver='liblinear', \n",
        "                                         class_weight=\"balanced\", \n",
        "                                         random_state=7),\n",
        "                      iid=True,\n",
        "                      return_train_score=True,\n",
        "                      param_grid=param_grid,\n",
        "                      scoring='roc_auc',\n",
        "                      cv=10)\n",
        "\n",
        "log_grid = log_gs.fit(X_train, y_train)\n",
        "log_opt = log_grid.best_estimator_\n",
        "results = log_gs.cv_results_\n",
        "\n",
        "print('='*20)\n",
        "print(\"best params: \" + str(log_gs.best_estimator_))\n",
        "print(\"best params: \" + str(log_gs.best_params_))\n",
        "print('best score:', log_gs.best_score_)\n",
        "print('='*20)"
      ],
      "execution_count": 0,
      "outputs": []
    },
    {
      "cell_type": "code",
      "metadata": {
        "colab_type": "code",
        "id": "fJqDGaxJny_A",
        "colab": {}
      },
      "source": [
        "#Evaluating the model\n",
        "\n",
        "cnf_matrix = metrics.confusion_matrix(y_test, log_opt.predict(X_test))\n",
        "class_names=[0,1] \n",
        "fig, ax = plt.subplots()\n",
        "tick_marks = np.arange(len(class_names))\n",
        "plt.xticks(tick_marks, class_names)\n",
        "plt.yticks(tick_marks, class_names)\n",
        "\n",
        "\n",
        "sns.heatmap(pd.DataFrame(cnf_matrix), annot=True, cmap=\"YlGnBu\" ,fmt='g')\n",
        "ax.xaxis.set_label_position(\"top\")\n",
        "plt.tight_layout()\n",
        "plt.title('Confusion matrix', y=1.1)\n",
        "plt.ylabel('Actual label')\n",
        "plt.xlabel('Predicted label')"
      ],
      "execution_count": 0,
      "outputs": []
    },
    {
      "cell_type": "code",
      "metadata": {
        "colab_type": "code",
        "id": "ULQ3JpbZoH9p",
        "colab": {}
      },
      "source": [
        "print('Accuracy of Logistic Regression Classifier on test set: {:.2f}'.format(log_opt.score(X_test, y_test)*100))"
      ],
      "execution_count": 0,
      "outputs": []
    },
    {
      "cell_type": "code",
      "metadata": {
        "colab_type": "code",
        "id": "ktMCAn63oPcs",
        "colab": {}
      },
      "source": [
        "# Classification report for the optimised Logistic Regression\n",
        "log_opt.fit(X_train, y_train)\n",
        "print(classification_report(y_test, log_opt.predict(X_test)))"
      ],
      "execution_count": 0,
      "outputs": []
    },
    {
      "cell_type": "code",
      "metadata": {
        "colab_type": "code",
        "id": "GsL3Yd1-oYR3",
        "colab": {}
      },
      "source": [
        "log_opt.fit(X_train, y_train) \n",
        "probs = log_opt.predict_proba(X_test)\n",
        "probs = probs[:, 1] \n",
        "logit_roc_auc = roc_auc_score(y_test, probs) \n",
        "print('AUC score: %.3f' % logit_roc_auc)"
      ],
      "execution_count": 0,
      "outputs": []
    },
    {
      "cell_type": "code",
      "metadata": {
        "colab_type": "code",
        "id": "w4SvS1mxoq1_",
        "colab": {}
      },
      "source": [
        "#Random Forest Classifier\n",
        "\n",
        "rf_classifier = RandomForestClassifier(class_weight = \"balanced\",\n",
        "                                       random_state=7)\n",
        "param_grid = {'n_estimators': [50, 75, 100, 125, 150, 175],\n",
        "            'min_samples_leaf': [1, 2, 3, 4],\n",
        "            'max_depth': [5, 10, 15, 20, 25]}\n",
        "\n",
        "grid_obj = GridSearchCV(rf_classifier,\n",
        "                        iid=True,\n",
        "                        return_train_score=True,\n",
        "                        param_grid=param_grid,\n",
        "                        scoring='roc_auc',\n",
        "                        cv=10)\n",
        "\n",
        "grid_fit = grid_obj.fit(X_train, y_train)\n",
        "rf_opt = grid_fit.best_estimator_\n",
        "\n",
        "print('='*20)\n",
        "print(\"best params: \" + str(grid_obj.best_estimator_))\n",
        "print(\"best params: \" + str(grid_obj.best_params_))\n",
        "print('best score:', grid_obj.best_score_)\n",
        "print('='*20)"
      ],
      "execution_count": 0,
      "outputs": []
    },
    {
      "cell_type": "code",
      "metadata": {
        "colab_type": "code",
        "id": "-VZehHJqtiPz",
        "colab": {}
      },
      "source": [
        "importances = rf_opt.feature_importances_\n",
        "indices = np.argsort(importances)[::-1] # Sort feature importances in descending order\n",
        "names = [X_train.columns[i] for i in indices] # Rearrange feature names so they match the sorted feature importances\n",
        "plt.figure(figsize=(15, 7)) \n",
        "plt.title(\"Feature Importance\") \n",
        "plt.bar(range(X_train.shape[1]), importances[indices])\n",
        "plt.xticks(range(X_train.shape[1]), names, rotation=90)\n",
        "plt.show() "
      ],
      "execution_count": 0,
      "outputs": []
    },
    {
      "cell_type": "code",
      "metadata": {
        "colab_type": "code",
        "id": "Gsnx9pTHvCa7",
        "colab": {}
      },
      "source": [
        "#Random Forest helped us identify the Top 10 most important indicators\n",
        "\n",
        "importances = rf_opt.feature_importances_\n",
        "df_param_coeff = pd.DataFrame(columns=['Feature', 'Coefficient'])\n",
        "for i in range(44):\n",
        "    feat = X_train.columns[i]\n",
        "    coeff = importances[i]\n",
        "    df_param_coeff.loc[i] = (feat, coeff)\n",
        "df_param_coeff.sort_values(by='Coefficient', ascending=False, inplace=True)\n",
        "df_param_coeff = df_param_coeff.reset_index(drop=True)\n",
        "df_param_coeff.head(10)"
      ],
      "execution_count": 0,
      "outputs": []
    },
    {
      "cell_type": "code",
      "metadata": {
        "colab_type": "code",
        "id": "Gi5z-kHhxWzT",
        "colab": {}
      },
      "source": [
        "#Evaluating the Algorithm\n",
        "\n",
        "cnf_matrix = metrics.confusion_matrix(y_test, rf_opt.predict(X_test))\n",
        "class_names=[0,1] # name  of classes\n",
        "fig, ax = plt.subplots()\n",
        "tick_marks = np.arange(len(class_names))\n",
        "plt.xticks(tick_marks, class_names)\n",
        "plt.yticks(tick_marks, class_names)\n",
        "\n",
        "sns.heatmap(pd.DataFrame(cnf_matrix), annot=True, cmap=\"YlGnBu\" ,fmt='g')\n",
        "ax.xaxis.set_label_position(\"top\")\n",
        "plt.tight_layout()\n",
        "plt.title('Confusion matrix', y=1.1)\n",
        "plt.ylabel('Actual label')\n",
        "plt.xlabel('Predicted label')\n"
      ],
      "execution_count": 0,
      "outputs": []
    },
    {
      "cell_type": "code",
      "metadata": {
        "colab_type": "code",
        "id": "3A1Vq5qgzzlY",
        "colab": {}
      },
      "source": [
        "print('Accuracy of RandomForest Regression Classifier on test set: {:.2f}'.format(rf_opt.score(X_test, y_test)*100))"
      ],
      "execution_count": 0,
      "outputs": []
    },
    {
      "cell_type": "code",
      "metadata": {
        "colab_type": "code",
        "id": "mf7ILgRY3YbM",
        "colab": {}
      },
      "source": [
        "# Classification report for the optimised RF Regression\n",
        "\n",
        "rf_opt.fit(X_train, y_train)\n",
        "print(classification_report(y_test, rf_opt.predict(X_test)))"
      ],
      "execution_count": 0,
      "outputs": []
    },
    {
      "cell_type": "code",
      "metadata": {
        "colab_type": "code",
        "id": "MOU7-M793xQR",
        "colab": {}
      },
      "source": [
        "rf_opt.fit(X_train, y_train) \n",
        "probs = rf_opt.predict_proba(X_test) \n",
        "probs = probs[:, 1] \n",
        "rf_opt_roc_auc = roc_auc_score(y_test, probs) \n",
        "print('AUC score: %.3f' % rf_opt_roc_auc)\n"
      ],
      "execution_count": 0,
      "outputs": []
    },
    {
      "cell_type": "code",
      "metadata": {
        "colab_type": "code",
        "id": "IUxZoh-w34fT",
        "colab": {}
      },
      "source": [
        "# Create ROC Graph\n",
        "from sklearn.metrics import roc_curve\n",
        "fpr, tpr, thresholds = roc_curve(y_test, log_opt.predict_proba(X_test)[:,1])\n",
        "rf_fpr, rf_tpr, rf_thresholds = roc_curve(y_test, rf_opt.predict_proba(X_test)[:,1])\n",
        "plt.figure(figsize=(14, 6))\n",
        "\n",
        "# Plot Logistic Regression ROC\n",
        "plt.plot(fpr, tpr, label='Logistic Regression (area = %0.2f)' % logit_roc_auc)\n",
        "# Plot Random Forest ROC\n",
        "plt.plot(rf_fpr, rf_tpr, label='Random Forest (area = %0.2f)' % rf_opt_roc_auc)\n",
        "# Plot Base Rate ROC\n",
        "plt.plot([0,1], [0,1],label='Base Rate' 'k--')\n",
        "\n",
        "plt.xlim([0.0, 1.0])\n",
        "plt.ylim([0.0, 1.05])\n",
        "plt.xlabel('False Positive Rate')\n",
        "plt.ylabel('True Positive Rate')\n",
        "plt.title('ROC Graph')\n",
        "plt.legend(loc=\"lower right\")\n",
        "plt.show()"
      ],
      "execution_count": 0,
      "outputs": []
    },
    {
      "cell_type": "markdown",
      "metadata": {
        "colab_type": "text",
        "id": "2016SQIc5kv4"
      },
      "source": [
        "The fine-tuned Logistic Regression model showed a higher AUC score compared to the Random Forest Classifier"
      ]
    },
    {
      "cell_type": "code",
      "metadata": {
        "colab_type": "code",
        "id": "98pToWnY40vE",
        "colab": {}
      },
      "source": [
        ""
      ],
      "execution_count": 0,
      "outputs": []
    }
  ]
}